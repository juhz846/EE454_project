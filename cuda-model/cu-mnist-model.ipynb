{
  "cells": [
    {
      "cell_type": "code",
      "execution_count": 1,
      "id": "397b968f",
      "metadata": {
        "id": "397b968f",
        "outputId": "54ac820f-a2f3-4638-cc6e-46f6ca7798e2",
        "colab": {
          "base_uri": "https://localhost:8080/"
        }
      },
      "outputs": [
        {
          "output_type": "stream",
          "name": "stdout",
          "text": [
            "hello world\n",
            "hello vish\n"
          ]
        }
      ],
      "source": [
        "print(\"hello world\")\n",
        "\n",
        "print(\"hello vish\")"
      ]
    },
    {
      "cell_type": "code",
      "execution_count": null,
      "id": "e1362963",
      "metadata": {
        "id": "e1362963"
      },
      "outputs": [],
      "source": []
    }
  ],
  "metadata": {
    "kernelspec": {
      "display_name": "Python 3 (ipykernel)",
      "language": "python",
      "name": "python3"
    },
    "language_info": {
      "codemirror_mode": {
        "name": "ipython",
        "version": 3
      },
      "file_extension": ".py",
      "mimetype": "text/x-python",
      "name": "python",
      "nbconvert_exporter": "python",
      "pygments_lexer": "ipython3",
      "version": "3.9.18"
    },
    "colab": {
      "provenance": []
    }
  },
  "nbformat": 4,
  "nbformat_minor": 5
}